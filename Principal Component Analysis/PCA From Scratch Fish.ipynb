{
 "cells": [
  {
   "cell_type": "markdown",
   "metadata": {},
   "source": [
    "# Using Principal Component Analysis to Reduce the Dimensionality of a Dataset of Fish Species"
   ]
  },
  {
   "cell_type": "markdown",
   "metadata": {},
   "source": [
    "The aim of this program is to employ Principal Component Analysis (PCA) on a simple dataset of fish species to reduce the dimensionality from five dimesnions to two. PCA identifies the directions of greatest variance in the data by computing the principal components, then performs a change of basis on the data by projecting it onto a limited number of these principal components. In this way the number of features in the data can be reduced whilst the variance in the remaining features is preserved. This is important for the performance of the Machine Learning model."
   ]
  },
  {
   "cell_type": "markdown",
   "metadata": {},
   "source": [
    "We begin by reading the data into a data frame."
   ]
  },
  {
   "cell_type": "code",
   "execution_count": 16,
   "metadata": {},
   "outputs": [
    {
     "data": {
      "text/html": [
       "<div>\n",
       "<style scoped>\n",
       "    .dataframe tbody tr th:only-of-type {\n",
       "        vertical-align: middle;\n",
       "    }\n",
       "\n",
       "    .dataframe tbody tr th {\n",
       "        vertical-align: top;\n",
       "    }\n",
       "\n",
       "    .dataframe thead th {\n",
       "        text-align: right;\n",
       "    }\n",
       "</style>\n",
       "<table border=\"1\" class=\"dataframe\">\n",
       "  <thead>\n",
       "    <tr style=\"text-align: right;\">\n",
       "      <th></th>\n",
       "      <th>species</th>\n",
       "      <th>feature1</th>\n",
       "      <th>feature2</th>\n",
       "      <th>feature3</th>\n",
       "      <th>feature4</th>\n",
       "      <th>feature5</th>\n",
       "      <th>feature6</th>\n",
       "    </tr>\n",
       "  </thead>\n",
       "  <tbody>\n",
       "    <tr>\n",
       "      <th>0</th>\n",
       "      <td>Bream</td>\n",
       "      <td>242.0</td>\n",
       "      <td>23.2</td>\n",
       "      <td>25.4</td>\n",
       "      <td>30.0</td>\n",
       "      <td>38.4</td>\n",
       "      <td>13.4</td>\n",
       "    </tr>\n",
       "    <tr>\n",
       "      <th>1</th>\n",
       "      <td>Bream</td>\n",
       "      <td>290.0</td>\n",
       "      <td>24.0</td>\n",
       "      <td>26.3</td>\n",
       "      <td>31.2</td>\n",
       "      <td>40.0</td>\n",
       "      <td>13.8</td>\n",
       "    </tr>\n",
       "    <tr>\n",
       "      <th>2</th>\n",
       "      <td>Bream</td>\n",
       "      <td>340.0</td>\n",
       "      <td>23.9</td>\n",
       "      <td>26.5</td>\n",
       "      <td>31.1</td>\n",
       "      <td>39.8</td>\n",
       "      <td>15.1</td>\n",
       "    </tr>\n",
       "    <tr>\n",
       "      <th>3</th>\n",
       "      <td>Bream</td>\n",
       "      <td>363.0</td>\n",
       "      <td>26.3</td>\n",
       "      <td>29.0</td>\n",
       "      <td>33.5</td>\n",
       "      <td>38.0</td>\n",
       "      <td>13.3</td>\n",
       "    </tr>\n",
       "    <tr>\n",
       "      <th>4</th>\n",
       "      <td>Bream</td>\n",
       "      <td>430.0</td>\n",
       "      <td>26.5</td>\n",
       "      <td>29.0</td>\n",
       "      <td>34.0</td>\n",
       "      <td>36.6</td>\n",
       "      <td>15.1</td>\n",
       "    </tr>\n",
       "    <tr>\n",
       "      <th>5</th>\n",
       "      <td>Bream</td>\n",
       "      <td>450.0</td>\n",
       "      <td>26.8</td>\n",
       "      <td>29.7</td>\n",
       "      <td>34.7</td>\n",
       "      <td>39.2</td>\n",
       "      <td>14.2</td>\n",
       "    </tr>\n",
       "    <tr>\n",
       "      <th>6</th>\n",
       "      <td>Bream</td>\n",
       "      <td>500.0</td>\n",
       "      <td>26.8</td>\n",
       "      <td>29.7</td>\n",
       "      <td>34.5</td>\n",
       "      <td>41.1</td>\n",
       "      <td>15.3</td>\n",
       "    </tr>\n",
       "    <tr>\n",
       "      <th>7</th>\n",
       "      <td>Bream</td>\n",
       "      <td>390.0</td>\n",
       "      <td>27.6</td>\n",
       "      <td>30.0</td>\n",
       "      <td>35.0</td>\n",
       "      <td>36.2</td>\n",
       "      <td>13.4</td>\n",
       "    </tr>\n",
       "    <tr>\n",
       "      <th>8</th>\n",
       "      <td>Bream</td>\n",
       "      <td>450.0</td>\n",
       "      <td>27.6</td>\n",
       "      <td>30.0</td>\n",
       "      <td>35.1</td>\n",
       "      <td>39.9</td>\n",
       "      <td>13.8</td>\n",
       "    </tr>\n",
       "    <tr>\n",
       "      <th>9</th>\n",
       "      <td>Bream</td>\n",
       "      <td>500.0</td>\n",
       "      <td>28.5</td>\n",
       "      <td>30.7</td>\n",
       "      <td>36.2</td>\n",
       "      <td>39.3</td>\n",
       "      <td>13.7</td>\n",
       "    </tr>\n",
       "  </tbody>\n",
       "</table>\n",
       "</div>"
      ],
      "text/plain": [
       "  species  feature1  feature2  feature3  feature4  feature5  feature6\n",
       "0   Bream     242.0      23.2      25.4      30.0      38.4      13.4\n",
       "1   Bream     290.0      24.0      26.3      31.2      40.0      13.8\n",
       "2   Bream     340.0      23.9      26.5      31.1      39.8      15.1\n",
       "3   Bream     363.0      26.3      29.0      33.5      38.0      13.3\n",
       "4   Bream     430.0      26.5      29.0      34.0      36.6      15.1\n",
       "5   Bream     450.0      26.8      29.7      34.7      39.2      14.2\n",
       "6   Bream     500.0      26.8      29.7      34.5      41.1      15.3\n",
       "7   Bream     390.0      27.6      30.0      35.0      36.2      13.4\n",
       "8   Bream     450.0      27.6      30.0      35.1      39.9      13.8\n",
       "9   Bream     500.0      28.5      30.7      36.2      39.3      13.7"
      ]
     },
     "execution_count": 16,
     "metadata": {},
     "output_type": "execute_result"
    }
   ],
   "source": [
    "import matplotlib.pyplot as plt\n",
    "import pandas as pd\n",
    "import numpy as np\n",
    "import seaborn as sns\n",
    "from scipy.stats import zscore\n",
    "\n",
    "df = pd.read_csv('fish_data.csv', header = None)\n",
    "# name the columns\n",
    "col_names = ['species', 'feature1', 'feature2', 'feature3', 'feature4',\\\n",
    "             'feature5', 'feature6']\n",
    "df.columns = col_names\n",
    "df.head(10)"
   ]
  },
  {
   "cell_type": "markdown",
   "metadata": {},
   "source": [
    "We can see that the feature 1 values are an order of magnitude larger than the rest, and the feature 6 values are around half those of features 2-5. Therefore, mean-normalising the features will not suffice on this occasion and we will employ feature scaling. We can do this with scipy's zscore function. The z-score is defined as $$Z = \\frac{x - \\mu}{\\sigma}$$ where $x$ is the observed value, $\\mu$ is the mean of the feature, and $\\sigma$ is the standard deviation of the feature."
   ]
  },
  {
   "cell_type": "code",
   "execution_count": 17,
   "metadata": {},
   "outputs": [
    {
     "data": {
      "text/html": [
       "<div>\n",
       "<style scoped>\n",
       "    .dataframe tbody tr th:only-of-type {\n",
       "        vertical-align: middle;\n",
       "    }\n",
       "\n",
       "    .dataframe tbody tr th {\n",
       "        vertical-align: top;\n",
       "    }\n",
       "\n",
       "    .dataframe thead th {\n",
       "        text-align: right;\n",
       "    }\n",
       "</style>\n",
       "<table border=\"1\" class=\"dataframe\">\n",
       "  <thead>\n",
       "    <tr style=\"text-align: right;\">\n",
       "      <th></th>\n",
       "      <th>feature1</th>\n",
       "      <th>feature2</th>\n",
       "      <th>feature3</th>\n",
       "      <th>feature4</th>\n",
       "      <th>feature5</th>\n",
       "      <th>feature6</th>\n",
       "    </tr>\n",
       "  </thead>\n",
       "  <tbody>\n",
       "    <tr>\n",
       "      <th>0</th>\n",
       "      <td>-0.501097</td>\n",
       "      <td>-0.368786</td>\n",
       "      <td>-0.343234</td>\n",
       "      <td>-0.237815</td>\n",
       "      <td>1.003212</td>\n",
       "      <td>0.253740</td>\n",
       "    </tr>\n",
       "    <tr>\n",
       "      <th>1</th>\n",
       "      <td>-0.374343</td>\n",
       "      <td>-0.297502</td>\n",
       "      <td>-0.268935</td>\n",
       "      <td>-0.146348</td>\n",
       "      <td>1.158696</td>\n",
       "      <td>0.443765</td>\n",
       "    </tr>\n",
       "    <tr>\n",
       "      <th>2</th>\n",
       "      <td>-0.242308</td>\n",
       "      <td>-0.306413</td>\n",
       "      <td>-0.252424</td>\n",
       "      <td>-0.153970</td>\n",
       "      <td>1.139261</td>\n",
       "      <td>1.061347</td>\n",
       "    </tr>\n",
       "    <tr>\n",
       "      <th>3</th>\n",
       "      <td>-0.181572</td>\n",
       "      <td>-0.092563</td>\n",
       "      <td>-0.046036</td>\n",
       "      <td>0.028965</td>\n",
       "      <td>0.964342</td>\n",
       "      <td>0.206233</td>\n",
       "    </tr>\n",
       "    <tr>\n",
       "      <th>4</th>\n",
       "      <td>-0.004645</td>\n",
       "      <td>-0.074743</td>\n",
       "      <td>-0.046036</td>\n",
       "      <td>0.067076</td>\n",
       "      <td>0.828293</td>\n",
       "      <td>1.061347</td>\n",
       "    </tr>\n",
       "    <tr>\n",
       "      <th>5</th>\n",
       "      <td>0.048170</td>\n",
       "      <td>-0.048011</td>\n",
       "      <td>0.011752</td>\n",
       "      <td>0.120432</td>\n",
       "      <td>1.080954</td>\n",
       "      <td>0.633790</td>\n",
       "    </tr>\n",
       "    <tr>\n",
       "      <th>6</th>\n",
       "      <td>0.180205</td>\n",
       "      <td>-0.048011</td>\n",
       "      <td>0.011752</td>\n",
       "      <td>0.105187</td>\n",
       "      <td>1.265591</td>\n",
       "      <td>1.156360</td>\n",
       "    </tr>\n",
       "    <tr>\n",
       "      <th>7</th>\n",
       "      <td>-0.110273</td>\n",
       "      <td>0.023272</td>\n",
       "      <td>0.036518</td>\n",
       "      <td>0.143299</td>\n",
       "      <td>0.789422</td>\n",
       "      <td>0.253740</td>\n",
       "    </tr>\n",
       "    <tr>\n",
       "      <th>8</th>\n",
       "      <td>0.048170</td>\n",
       "      <td>0.023272</td>\n",
       "      <td>0.036518</td>\n",
       "      <td>0.150921</td>\n",
       "      <td>1.148978</td>\n",
       "      <td>0.443765</td>\n",
       "    </tr>\n",
       "    <tr>\n",
       "      <th>9</th>\n",
       "      <td>0.180205</td>\n",
       "      <td>0.103465</td>\n",
       "      <td>0.094307</td>\n",
       "      <td>0.234766</td>\n",
       "      <td>1.090672</td>\n",
       "      <td>0.396259</td>\n",
       "    </tr>\n",
       "  </tbody>\n",
       "</table>\n",
       "</div>"
      ],
      "text/plain": [
       "   feature1  feature2  feature3  feature4  feature5  feature6\n",
       "0 -0.501097 -0.368786 -0.343234 -0.237815  1.003212  0.253740\n",
       "1 -0.374343 -0.297502 -0.268935 -0.146348  1.158696  0.443765\n",
       "2 -0.242308 -0.306413 -0.252424 -0.153970  1.139261  1.061347\n",
       "3 -0.181572 -0.092563 -0.046036  0.028965  0.964342  0.206233\n",
       "4 -0.004645 -0.074743 -0.046036  0.067076  0.828293  1.061347\n",
       "5  0.048170 -0.048011  0.011752  0.120432  1.080954  0.633790\n",
       "6  0.180205 -0.048011  0.011752  0.105187  1.265591  1.156360\n",
       "7 -0.110273  0.023272  0.036518  0.143299  0.789422  0.253740\n",
       "8  0.048170  0.023272  0.036518  0.150921  1.148978  0.443765\n",
       "9  0.180205  0.103465  0.094307  0.234766  1.090672  0.396259"
      ]
     },
     "execution_count": 17,
     "metadata": {},
     "output_type": "execute_result"
    }
   ],
   "source": [
    "# scale the features and drop the species column \n",
    "df = df.iloc[:, 1:].apply(zscore)\n",
    "# view scaled features\n",
    "df.head(10)"
   ]
  },
  {
   "cell_type": "markdown",
   "metadata": {},
   "source": [
    "The goal of PCA is to reduce the dimensionality of the data, whilst also maximising variance and reducing redundancy in the remaining features. This corresponds to diagonalising the covariance matrix of $X$, as the diagonal elements represent variance (spread of data around the mean), and the off-diagonal elements represent feature redundancy (covariance - the correlational relationships between different features)."
   ]
  },
  {
   "cell_type": "markdown",
   "metadata": {},
   "source": [
    "We start off with the covariance matrix $C_X$ defined by $C_X = \\frac{1}{m}XX^T$, of the data $X$ which has $n$ features and $m$ samples."
   ]
  },
  {
   "cell_type": "code",
   "execution_count": 18,
   "metadata": {},
   "outputs": [
    {
     "data": {
      "image/png": "[encoded data removed]",
      "text/plain": [
       "<Figure size 432x288 with 2 Axes>"
      ]
     },
     "metadata": {},
     "output_type": "display_data"
    }
   ],
   "source": [
    "# assign the features to X\n",
    "X = df.values\n",
    "# m is the number of samples, n is the number of features\n",
    "m, n = X.shape\n",
    "# calculate the covariance matrix C_X\n",
    "C_X = ((1/m)*np.dot(X.T, X))\n",
    "# view C_X\n",
    "fig = plt.figure()\n",
    "ax = sns.heatmap(C_X, annot = True)"
   ]
  },
  {
   "cell_type": "markdown",
   "metadata": {},
   "source": [
    "We want to project the data $X$ onto a lower-dimensionality space $Z$ in such a way that the covariance matrix $C_Z = \\frac{1}{m}ZZ^T$ is diagonal. We do this by applying the transformation $Z = U^TX$, where $U$ has the dimensions $(n \\times k)$, $k<n$. $X$ has dimensions $(n \\times m)$, therefore $Z$ will have the dimensions  $(k \\times n)\\cdot(n \\times m)=(k \\times m)$, i.e., the features have been reduced from $n$ to $k$."
   ]
  },
  {
   "cell_type": "markdown",
   "metadata": {},
   "source": [
    "It can be shown that the $U$ that produces the diagonal covariance matrix $C_Z$ is composed of the orthonormal eigenvectors of $C_X$. Therefore, we proceed by finding the eigenvalues and eigenvectors of $C_X$."
   ]
  },
  {
   "cell_type": "code",
   "execution_count": 19,
   "metadata": {},
   "outputs": [
    {
     "name": "stdout",
     "output_type": "stream",
     "text": [
      "Eigenvalues:\n",
      "[3.89974197e+00 1.76002637e+00 2.40373998e-01 9.91712352e-02\n",
      " 1.29916086e-04 5.56515808e-04]\n",
      "\n",
      "\n",
      "Eigenvectors:\n",
      "[[ 4.82436240e-01  2.29692711e-02 -3.30179106e-01  8.10968282e-01\n",
      "   6.31103609e-03  2.48122808e-04]\n",
      " [ 4.96621622e-01 -1.20740658e-01  1.74024891e-01 -2.25946074e-01\n",
      "   6.34567759e-01 -5.04753531e-01]\n",
      " [ 4.98907207e-01 -1.01658466e-01  1.58914364e-01 -2.23188963e-01\n",
      "  -7.62910895e-01 -2.89235256e-01]\n",
      " [ 5.03418214e-01 -3.84662570e-02  8.59665344e-02 -2.64595558e-01\n",
      "   1.23417004e-01  8.07748499e-01]\n",
      " [ 1.27925132e-01  6.87801239e-01 -6.17390765e-01 -3.46925836e-01\n",
      "   9.33336166e-04 -9.50518420e-02]\n",
      " [ 4.38075428e-02  7.07113474e-01  6.68492123e-01  2.26046808e-01\n",
      "   4.27407804e-03  8.61905647e-03]]\n"
     ]
    }
   ],
   "source": [
    "# calculate the eigenvalues and eigenvectors of C_X\n",
    "eigenvals, eigenvecs = np.linalg.eig(C_X)\n",
    "print('Eigenvalues:')\n",
    "print(eigenvals)\n",
    "print('\\n')\n",
    "print('Eigenvectors:')\n",
    "print(eigenvecs)"
   ]
  },
  {
   "cell_type": "markdown",
   "metadata": {},
   "source": [
    "Now we can construct $U$ from the eigenvectors of $C_X$. In particular, we will be using the first two primary components."
   ]
  },
  {
   "cell_type": "code",
   "execution_count": 20,
   "metadata": {},
   "outputs": [
    {
     "name": "stdout",
     "output_type": "stream",
     "text": [
      "The dot product of the two primary components is equal to 0.0\n",
      "U:\n",
      "[[ 0.48243624  0.02296927]\n",
      " [ 0.49662162 -0.12074066]\n",
      " [ 0.49890721 -0.10165847]\n",
      " [ 0.50341821 -0.03846626]\n",
      " [ 0.12792513  0.68780124]\n",
      " [ 0.04380754  0.70711347]]\n"
     ]
    }
   ],
   "source": [
    "# we want to identify the first two primary components for a projection into 2 dimensions\n",
    "# the column v[:,i] is the eigenvector corresponding to the eigenvalue w[i]\n",
    "# the first two returned eigenvectors are the first two primary components\n",
    "first_component = eigenvecs[:,0]\n",
    "second_component = eigenvecs[:,1]\n",
    "# check orthogonality of primary components\n",
    "print('The dot product of the two primary components is equal to {:.1f}'.format(np.inner(first_component, second_component)))\n",
    "# construct U from the primary components\n",
    "U = np.stack((first_component, second_component), axis = 1)\n",
    "# view U\n",
    "print('U:')\n",
    "print(U)"
   ]
  },
  {
   "cell_type": "markdown",
   "metadata": {},
   "source": [
    "Finally, we project the five-dimensional data onto two-dimensional space with $Z = U^TX$. $Z$ will have the dimensions $(2 \\times n) \\cdot (n \\times m) = (2 \\times m)$. We will also check that $C_Z$ is diagonal."
   ]
  },
  {
   "cell_type": "code",
   "execution_count": 21,
   "metadata": {},
   "outputs": [
    {
     "data": {
      "image/png": "[encoded data removed]",
      "text/plain": [
       "<Figure size 432x288 with 1 Axes>"
      ]
     },
     "metadata": {},
     "output_type": "display_data"
    }
   ],
   "source": [
    "# project the data onto 2 dimensions using U\n",
    "Z = np.dot(X, U)\n",
    "# plot the projected data in 2 dimensions\n",
    "sns.set_style('darkgrid')\n",
    "fig = plt.figure()\n",
    "ax = fig.add_subplot(111)\n",
    "ax.scatter(Z[:,0], Z[:, 1], edgecolor = 'white')\n",
    "plt.show()"
   ]
  },
  {
   "cell_type": "code",
   "execution_count": 22,
   "metadata": {},
   "outputs": [
    {
     "data": {
      "image/png": "[encoded data removed]",
      "text/plain": [
       "<Figure size 432x288 with 2 Axes>"
      ]
     },
     "metadata": {},
     "output_type": "display_data"
    }
   ],
   "source": [
    "C_Z = (1/m)*np.dot(Z.T, Z)\n",
    "# visualise the matrix\n",
    "fig = plt.figure()\n",
    "ax = sns.heatmap(C_Z, annot = True)"
   ]
  },
  {
   "cell_type": "markdown",
   "metadata": {},
   "source": [
    "As we can see, $C_Z$ is diagonal; the off diagonal elements are zero and the diagonal elements are non-zero."
   ]
  }
 ],
 "metadata": {
  "kernelspec": {
   "display_name": "Python 3",
   "language": "python",
   "name": "python3"
  },
  "language_info": {
   "codemirror_mode": {
    "name": "ipython",
    "version": 3
   },
   "file_extension": ".py",
   "mimetype": "text/x-python",
   "name": "python",
   "nbconvert_exporter": "python",
   "pygments_lexer": "ipython3",
   "version": "3.7.3"
  }
 },
 "nbformat": 4,
 "nbformat_minor": 2
}
