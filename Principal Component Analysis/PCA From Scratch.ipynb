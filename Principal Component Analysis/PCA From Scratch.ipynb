{
 "cells": [
  {
   "cell_type": "markdown",
   "metadata": {},
   "source": [
    "# Using Principal Component Analysis to Reduce the Dimensionality of a Dataset"
   ]
  },
  {
   "cell_type": "markdown",
   "metadata": {},
   "source": [
    "The aim of this program is to employ Principal Component Analysis (PCA) on a very simple dataset to reduce the dimensionality from two dimesnions to one. PCA identifies the directions of greatest variance in the data by computing the principal components, then performs a change of basis on the data by projecting it onto a limited number of these principal components. In this way the number of features in the data can be reduced whilst the variance in the remaining features is preserved. This is important for the performance of the Machine Learning model."
   ]
  },
  {
   "cell_type": "markdown",
   "metadata": {},
   "source": [
    "We begin by reading the data into a data frame."
   ]
  },
  {
   "cell_type": "code",
   "execution_count": 18,
   "metadata": {},
   "outputs": [],
   "source": [
    "import matplotlib.pyplot as plt\n",
    "import pandas as pd\n",
    "import numpy as np\n",
    "import seaborn as sns\n",
    "\n",
    "# read data into a Pandas data frame and add column names\n",
    "df = pd.read_csv('PCAexampleData.txt', header = None)\n",
    "col_names = ['x1', 'x2']\n",
    "df.columns = col_names"
   ]
  },
  {
   "cell_type": "markdown",
   "metadata": {},
   "source": [
    "It is always useful to plot the data to see the problem at hand."
   ]
  },
  {
   "cell_type": "code",
   "execution_count": 19,
   "metadata": {},
   "outputs": [
    {
     "data": {
      "image/png": "[encoded data removed]",
      "text/plain": [
       "<Figure size 720x720 with 1 Axes>"
      ]
     },
     "metadata": {},
     "output_type": "display_data"
    }
   ],
   "source": [
    "# plot data\n",
    "sns.set_style('darkgrid')\n",
    "fig = plt.figure(figsize = (10, 10))\n",
    "ax = fig.add_subplot(121)\n",
    "ax.set_xlabel(r'$x_1$', fontsize = 14)\n",
    "ax.set_ylabel(r'$x_2$', fontsize = 14)\n",
    "ax.scatter(df['x1'], df['x2'])\n",
    "plt.axis('scaled')\n",
    "plt.show()"
   ]
  },
  {
   "cell_type": "markdown",
   "metadata": {},
   "source": [
    "When undertaking PCA it is important to carry out mean-normalisation on the features beforehand. This entails simply subtracting the mean of a feature over all samples from the feature value for each sample."
   ]
  },
  {
   "cell_type": "code",
   "execution_count": 20,
   "metadata": {},
   "outputs": [],
   "source": [
    "# assign feature to x1 and x2\n",
    "x1, x2 = df['x1'], df['x2']\n",
    "# mean normalise the features\n",
    "x1_mean, x2_mean = np.mean(x1), np.mean(x2)\n",
    "x1_norm = x1 - x1_mean\n",
    "x2_norm = x2 - x2_mean\n",
    "# generate the feature matrix X\n",
    "X = np.stack((x1_norm, x2_norm), axis =1)"
   ]
  },
  {
   "cell_type": "markdown",
   "metadata": {},
   "source": [
    "The goal of PCA is to reduce the dimensionality of the data, whilst also maximising variance and reducing redundancy in the remaining features. This corresponds to diagonalising the covariance matrix of $X$, as the diagonal elements represent variance (spread of data around the mean), and the off-diagonal elements represent feature redundancy (covariance - the correlational relationships between different features)."
   ]
  },
  {
   "cell_type": "markdown",
   "metadata": {},
   "source": [
    "We start off with the covariance matrix $C_X$ defined by $C_X = \\frac{1}{m}XX^T$, of the data $X$ which has $n$ features and $m$ samples."
   ]
  },
  {
   "cell_type": "markdown",
   "metadata": {},
   "source": [
    "We want to project the data $X$ onto a lower-dimensionality space $Z$ in such a way that the covariance matrix $C_Z = \\frac{1}{m}ZZ^T$ is diagonal. We do this by applying the transformation $Z = U^TX$, where $U$ has the dimensions $(n \\times k)$, $k<n$. $X$ has dimensions $(n \\times m)$, therefore $Z$ will have the dimensions  $(k \\times n)\\cdot(n \\times m)=(k \\times m)$, i.e., the features have been reduced from $n$ to $k$."
   ]
  },
  {
   "cell_type": "markdown",
   "metadata": {},
   "source": [
    "It can be shown that the $U$ that produces the diagonal covariance matrix $C_Z$ is composed of the orthonormal eigenvectors of $C_X$. Therefore, we proceed by finding the eigenvalues and eigenvectors of $C_X$."
   ]
  },
  {
   "cell_type": "code",
   "execution_count": 21,
   "metadata": {},
   "outputs": [
    {
     "name": "stdout",
     "output_type": "stream",
     "text": [
      "Eigenvalues:\n",
      "[0.01803982 8.85420508]\n",
      "\n",
      "\n",
      "Eigenvectors:\n",
      "[[-0.89305545 -0.44994662]\n",
      " [ 0.44994662 -0.89305545]]\n",
      "\n",
      "\n",
      "The dot product of the two primary components is equal to 0.0\n",
      "The magnitude of the eigenvectors is 1.0 and 1.0\n"
     ]
    }
   ],
   "source": [
    "# m is the number of samples, n is the number of features\n",
    "m, n = X.shape\n",
    "# calculate the covariance matrix\n",
    "C_X = ((1/m)*np.dot(X.T, X))\n",
    "# get the eigenvalues and eigenvectors of the covariance matrix\n",
    "eigenvals, eigenvecs = np.linalg.eig(C_X)\n",
    "\n",
    "# identify the primary components\n",
    "# the column v[:,i] is the eigenvector corresponding to the eigenvalue w[i]\n",
    "# the primary component is the eigenvector corresponding to the largest eigenvalue\n",
    "first_component = -1*eigenvecs[:,1]\n",
    "second_component = -1*eigenvecs[:,0]\n",
    "# check that these two eigenvectors are orthonormal\n",
    "print('Eigenvalues:')\n",
    "print(eigenvals)\n",
    "print('\\n')\n",
    "print('Eigenvectors:')\n",
    "print(eigenvecs)\n",
    "print('\\n')\n",
    "print('The dot product of the two primary components is equal to {}'.format(np.inner(first_component, second_component)))\n",
    "print('The magnitude of the eigenvectors is {:.1f} and {:.1f}'. format(np.sqrt(first_component[0]**2 + first_component[1]**2),\n",
    "                                                                    np.sqrt(second_component[0]**2 + second_component[1]**2)))"
   ]
  },
  {
   "cell_type": "markdown",
   "metadata": {},
   "source": [
    "It can be shown that the eigenvectors of $C_X$ (known as the principal components) lie along the lines of maximum variance in $X$, with the eigenvalues equal to the variance. The eigenvector with the largest corresponding eigenvalue points in the direction of maximum variance. The eigenvector with the next largest corresponding eigenvalue points in the direction of the second largest variance, and so on. We demonstrate this in the next plot."
   ]
  },
  {
   "cell_type": "code",
   "execution_count": 22,
   "metadata": {},
   "outputs": [
    {
     "data": {
      "image/png": "[encoded data removed]",
      "text/plain": [
       "<Figure size 720x720 with 1 Axes>"
      ]
     },
     "metadata": {},
     "output_type": "display_data"
    }
   ],
   "source": [
    "# plot data\n",
    "fig = plt.figure(figsize = (10, 10))\n",
    "ax = fig.add_subplot(121)\n",
    "ax.set_xlabel(r'$x_1$', fontsize = 14)\n",
    "ax.set_ylabel(r'$x_2$', fontsize = 14)\n",
    "ax.scatter(df['x1'], df['x2'])\n",
    "\n",
    "# plot eigenvectors from the mean of the data points\n",
    "ax.arrow(x1_mean, x2_mean, 3*first_component[0], 3*first_component[1], color = 'r', width = 0.05)\n",
    "ax.arrow(x1_mean, x2_mean, 0.5*second_component[0], 0.5*second_component[1], color = 'r', width = 0.05)\n",
    "plt.axis('scaled')\n",
    "plt.show()"
   ]
  },
  {
   "cell_type": "markdown",
   "metadata": {},
   "source": [
    "Intuitively this plot makes sense, as we can see how the vector direction that will minimise the projection error of the dataset is along the line of maximum variance. Therefore, it should be no surprise that $U$ is composed of the eigenvectors of $C_X$."
   ]
  },
  {
   "cell_type": "markdown",
   "metadata": {},
   "source": [
    "Finally, we project the two-dimensional data onto one-dimensional space with $Z = U^TX$, where in this case $U$ is composed of the primary component only (the eigenvector of $C_X$ withe the largest corresponding eigenvalue)."
   ]
  },
  {
   "cell_type": "code",
   "execution_count": 23,
   "metadata": {},
   "outputs": [
    {
     "data": {
      "image/png": "[encoded data removed]",
      "text/plain": [
       "<Figure size 720x720 with 1 Axes>"
      ]
     },
     "metadata": {},
     "output_type": "display_data"
    }
   ],
   "source": [
    "# project data onto 1 dimension using the 'first_component' eigenvector\n",
    "Z = np.dot(X, first_component)\n",
    "# plot projected data\n",
    "# there needs to be 2D data to use 2D plotting functions so create an array of zeros to plot the projected data along the x axis\n",
    "zeros = np.zeros(Z.shape[0],)\n",
    "\n",
    "# generate plot\n",
    "fig = plt.figure(figsize = (10, 10))\n",
    "ax = fig.add_subplot(111)\n",
    "ax.scatter(Z, zeros)\n",
    "plt.show()"
   ]
  }
 ],
 "metadata": {
  "kernelspec": {
   "display_name": "Python 3",
   "language": "python",
   "name": "python3"
  },
  "language_info": {
   "codemirror_mode": {
    "name": "ipython",
    "version": 3
   },
   "file_extension": ".py",
   "mimetype": "text/x-python",
   "name": "python",
   "nbconvert_exporter": "python",
   "pygments_lexer": "ipython3",
   "version": "3.7.3"
  }
 },
 "nbformat": 4,
 "nbformat_minor": 2
}
